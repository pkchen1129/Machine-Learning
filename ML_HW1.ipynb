{
  "nbformat": 4,
  "nbformat_minor": 0,
  "metadata": {
    "colab": {
      "name": "ML_HW1.ipynb",
      "provenance": [],
      "toc_visible": true,
      "authorship_tag": "ABX9TyPeZQJbAvOnrSpMpIaHd5BG",
      "include_colab_link": true
    },
    "kernelspec": {
      "name": "python3",
      "display_name": "Python 3"
    }
  },
  "cells": [
    {
      "cell_type": "markdown",
      "metadata": {
        "id": "view-in-github",
        "colab_type": "text"
      },
      "source": [
        "<a href=\"https://colab.research.google.com/github/pkchen1129/Machine-Learning/blob/master/ML_HW1.ipynb\" target=\"_parent\"><img src=\"https://colab.research.google.com/assets/colab-badge.svg\" alt=\"Open In Colab\"/></a>"
      ]
    },
    {
      "cell_type": "markdown",
      "metadata": {
        "id": "Af9qK5ldPT-E",
        "colab_type": "text"
      },
      "source": [
        "# **0.Setup** "
      ]
    },
    {
      "cell_type": "code",
      "metadata": {
        "id": "3LT29g35QyKJ",
        "colab_type": "code",
        "outputId": "97d0b56e-dce3-4208-fd20-a9eae157d110",
        "colab": {
          "base_uri": "https://localhost:8080/",
          "height": 122
        }
      },
      "source": [
        "from google.colab import drive\n",
        "drive.mount('/content/drive')\n"
      ],
      "execution_count": 2,
      "outputs": [
        {
          "output_type": "stream",
          "text": [
            "Go to this URL in a browser: https://accounts.google.com/o/oauth2/auth?client_id=947318989803-6bn6qk8qdgf4n4g3pfee6491hc0brc4i.apps.googleusercontent.com&redirect_uri=urn%3aietf%3awg%3aoauth%3a2.0%3aoob&response_type=code&scope=email%20https%3a%2f%2fwww.googleapis.com%2fauth%2fdocs.test%20https%3a%2f%2fwww.googleapis.com%2fauth%2fdrive%20https%3a%2f%2fwww.googleapis.com%2fauth%2fdrive.photos.readonly%20https%3a%2f%2fwww.googleapis.com%2fauth%2fpeopleapi.readonly\n",
            "\n",
            "Enter your authorization code:\n",
            "··········\n",
            "Mounted at /content/drive\n"
          ],
          "name": "stdout"
        }
      ]
    },
    {
      "cell_type": "code",
      "metadata": {
        "id": "u03fqfkoisrV",
        "colab_type": "code",
        "colab": {}
      },
      "source": [
        "import numpy as np\n",
        "from numpy import linalg as NORM\n",
        "import matplotlib.pyplot as plt\n"
      ],
      "execution_count": 0,
      "outputs": []
    },
    {
      "cell_type": "code",
      "metadata": {
        "id": "sJgE1H3_i4nf",
        "colab_type": "code",
        "outputId": "8333a2d5-8ec2-4e1e-fbef-9cef50eec07a",
        "colab": {
          "base_uri": "https://localhost:8080/",
          "height": 119
        }
      },
      "source": [
        "#Load the data.\n",
        "q2xTrain = np.load('/content/drive/My Drive/Colab Notebooks/ML/q2xTrain.npy')\n",
        "q2yTrain = np.load('/content/drive/My Drive/Colab Notebooks/ML/q2yTrain.npy')\n",
        "q2xTest = np.load('/content/drive/My Drive/Colab Notebooks/ML/q2xTest.npy')\n",
        "q2yTest = np.load('/content/drive/My Drive/Colab Notebooks/ML/q2yTest.npy')\n",
        "q2xTrain = np.array([q2xTrain])\n",
        "q2xTrain = q2xTrain.T\n",
        "q2yTrain = np.array([q2yTrain])\n",
        "q2yTrain = q2yTrain.T\n",
        "q2xTest = np.array([q2xTest])\n",
        "q2xTest = q2xTest.T\n",
        "q2yTest = np.array([q2yTest])\n",
        "q2yTest = q2yTest.T\n",
        "#----------------------------------------------------------------------------\n",
        "q3x = np.load('/content/drive/My Drive/Colab Notebooks/ML/q3x.npy')\n",
        "q3y = np.load('/content/drive/My Drive/Colab Notebooks/ML/q3y.npy')\n",
        "\n",
        "\n",
        "q3x = np.array([q3x])\n",
        "q3x = q3x.T\n",
        "q3y = np.array([q3y])\n",
        "q3y = q3y.T\n",
        "\n",
        "\n",
        "\n",
        "#----------------------------------------------------------------------------\n",
        "q1x = np.load('/content/drive/My Drive/Colab Notebooks/ML/q1x.npy')\n",
        "q1y = np.load('/content/drive/My Drive/Colab Notebooks/ML/q1y.npy')\n",
        "# q1x = np.array([q1x])\n",
        "# q1x = q1x.T\n",
        "q1y = np.array([q1y])\n",
        "q1y = q1y.T\n",
        "\n",
        "# print(q2xTrain.shape)\n",
        "# print(q2yTrain.shape)\n",
        "# print(q2xTest.shape)\n",
        "# print(q2yTest.shape)\n",
        "print(q3x.shape)\n",
        "print(q3y.shape)\n",
        "print(q3x.shape)\n",
        "print(q3y.shape)\n",
        "\n",
        "print(q1x.shape)\n",
        "print(q1y.shape)\n",
        "\n",
        "\n",
        "\n",
        "\n",
        "## plot the train data\n",
        "# plt.plot(q2xTrain, q2yTrain, 'ro')\n",
        "# plt.show()\n",
        "\n",
        "# plt.plot(q2xTest, q2yTest, 'ro')\n",
        "# plt.show()"
      ],
      "execution_count": 5,
      "outputs": [
        {
          "output_type": "stream",
          "text": [
            "(100, 1)\n",
            "(100, 1)\n",
            "(100, 1)\n",
            "(100, 1)\n",
            "(99, 2)\n",
            "(99, 1)\n"
          ],
          "name": "stdout"
        }
      ]
    },
    {
      "cell_type": "markdown",
      "metadata": {
        "id": "B7GKUhRF6Oh8",
        "colab_type": "text"
      },
      "source": [
        "# **1.Logistic regression**\n",
        "\n",
        "##(a)\n"
      ]
    },
    {
      "cell_type": "markdown",
      "metadata": {
        "id": "DGoGwidlkmQy",
        "colab_type": "text"
      },
      "source": [
        "\n",
        "\n",
        "##(b)(c)\n",
        "Using the H you calculated in part (a), write down the update rule implied by Newton’s method for optimizing l(w). Now use this rule (and not a library function) to implement Newton’s method and apply it to binary classification problem specified in files q1x.npy and q1y.npy. The two columns of q1x.npy represent the inputs (x(i)) and q1y.npy represents the outputs (y(i) ∈ {0, 1}), with one training example per row. Initialize Newtons method with w = 0 (the vector of all zeros). What are the coefficients w, including the intercept term, resulting from your fit?\n"
      ]
    },
    {
      "cell_type": "code",
      "metadata": {
        "id": "g9vER-QWQ7U9",
        "colab_type": "code",
        "outputId": "e1f27f75-d732-4d1a-9b54-92e4ba5a931d",
        "colab": {
          "base_uri": "https://localhost:8080/",
          "height": 607
        }
      },
      "source": [
        "iteration = 500\n",
        "rate = 0.01\n",
        "w = np.array([[0.0],[0.0]])\n",
        "\n",
        "def sigmoid(x, w): \n",
        "                                                           \n",
        "    z = w.T @ x           \n",
        "    return 1.0 / (1.0 + np.exp(-z))\n",
        "\n",
        "D = np.zeros((q1x.shape[0],q1x.shape[0]))    \n",
        "\n",
        "for j in range(iteration):\n",
        "  #setting D \n",
        "  for i in range(q1x.shape[0]):\n",
        "    # print(sigmoid( q1x.T , w ).shape)\n",
        "    D[i,i] = sigmoid( q1x.T , w ) @ (np.ones((1,sigmoid( q1x.T , w ).shape[1])) - sigmoid( q1x.T , w )).T\n",
        "  #Hessian\n",
        "  H = - q1x.T @ D @ q1x\n",
        "  #grad\n",
        "  grad = q1x.T @ (sigmoid(q1x.T,w).T - q1y)\n",
        "  w = w - rate * np.linalg.inv(H) @ grad    #Formula for Newon Method\n",
        "p = sigmoid(q1x.T,w) #true\n",
        "\n",
        "# print(\"cost = \", cost)\n",
        "print(\"w = \", w) #(-0.62, -1.849)\n",
        "#--------------------------------------------------------\n",
        "##plotting\n",
        "t = np.linspace(-2, 6, 100)\n",
        "ploty = -w[0,0]/w[1,0] * t\n",
        "plt.plot(t,ploty)\n",
        "\n",
        "plt.xlabel('x1')\n",
        "plt.ylabel('x2')\n",
        "for i in range(99):\n",
        "  if q1y[i,0] > 0.5 :\n",
        "    # out[0,i] = 1\n",
        "    plt.plot(q1x[i,0],q1x[i,1],'ro')\n",
        "  else :\n",
        "    # out[0,i] = 0\n",
        "    plt.plot(q1x[i,0],q1x[i,1],'bo')\n",
        "plt.title('Before Classification')\n",
        "plt.show()\n",
        "\n",
        "#---------------------------------\n",
        "t = np.linspace(-2, 6, 100)\n",
        "ploty = -w[0,0]/w[1,0] * t\n",
        "plt.plot(t,ploty)\n",
        "\n",
        "for i in range(99):\n",
        "  if p[0,i] > 0.5 :\n",
        "    # out[0,i] = 1\n",
        "    plt.plot(q1x[i,0],q1x[i,1],'ro', label = '>0,5')\n",
        "  else :\n",
        "    # out[0,i] = 0\n",
        "    plt.plot(q1x[i,0],q1x[i,1],'bo',label = '<0,5')\n",
        "\n",
        "\n",
        "plt.xlabel('x1')\n",
        "plt.ylabel('x2')\n",
        "plt.title('After Classification')\n",
        "# plt.legend()\n",
        "plt.show()\n",
        "\n",
        "\n"
      ],
      "execution_count": 20,
      "outputs": [
        {
          "output_type": "stream",
          "text": [
            "w =  [[ 0.02603861]\n",
            " [-0.01679403]]\n"
          ],
          "name": "stdout"
        },
        {
          "output_type": "display_data",
          "data": {
            "image/png": "[encoded data removed]",
            "text/plain": [
              "<Figure size 432x288 with 1 Axes>"
            ]
          },
          "metadata": {
            "tags": []
          }
        },
        {
          "output_type": "display_data",
          "data": {
            "image/png": "[encoded data removed]",
            "text/plain": [
              "<Figure size 432x288 with 1 Axes>"
            ]
          },
          "metadata": {
            "tags": []
          }
        }
      ]
    },
    {
      "cell_type": "markdown",
      "metadata": {
        "colab_type": "text",
        "id": "gak7Sf5lid_B"
      },
      "source": [
        "# **2.Linear Regression on a polynomial**\n"
      ]
    },
    {
      "cell_type": "markdown",
      "metadata": {
        "id": "SchCezHNJySC",
        "colab_type": "text"
      },
      "source": [
        "## 2(a)\n",
        "For each of the following optimization methods, find the coefficients (slope and intercept) that minimize the error for a first degree polynomial."
      ]
    },
    {
      "cell_type": "markdown",
      "metadata": {
        "id": "pKdE6Gw5oJhl",
        "colab_type": "text"
      },
      "source": [
        "### (i)Batch Solution\n",
        "For Batch Solution, it sums up all the data(20 for this example) everytime they iterate through. \n",
        "\n",
        "The cost(E(**w**)) would be smaller when approaches the convex point, which means the minima. As long as the cost value is still big, I keep increasing the # of iteration and find the time when cost stabalizes.\n",
        "\n",
        "When the iteration is 600, the cost reduce to 0.099 which is smaller than 0.2 as requred and stablized without increasing. At the moment, $w = [w_0, w_1] = [1.944,-2.82026]$"
      ]
    },
    {
      "cell_type": "code",
      "metadata": {
        "id": "zJKK--gMwVWl",
        "colab_type": "code",
        "outputId": "3bded511-76c5-4f3f-e98c-d708f3f5d34e",
        "colab": {
          "base_uri": "https://localhost:8080/",
          "height": 68
        }
      },
      "source": [
        "#### Batch Gradient Descent\n",
        "rate = 0.01\n",
        "iteration = 600\n",
        "##initialize-------------------------------------\n",
        "w = np.array([[0.01] ,[0.02]])                          #Initialize w\n",
        "cost = 0                                              #Initialize cost\n",
        "PHI = np.vstack(( np.ones((20,1)).T , q2xTrain.T )).T #Define the bi PHI for vectorization\n",
        "Y = q2yTrain\n",
        "\n",
        "## The vectorized method(using big PHI)-----------\n",
        "for j in range(iteration):\n",
        "  grad = PHI.T @ (PHI @ w - Y)\n",
        "  w = w - rate * grad\n",
        "  \n",
        "\n",
        "#Calculate the cost--------------------------------\n",
        "cost = (PHI @ w - Y).T @ (PHI @ w - Y)/2/20\n",
        "print(\"Cost = \", cost)\n",
        "print(\"w = \",w)\n",
        "# print(\"grad = \",grad)\n",
        "#--------------------------------------------------------------\n"
      ],
      "execution_count": 21,
      "outputs": [
        {
          "output_type": "stream",
          "text": [
            "Cost =  [[0.09937779]]\n",
            "w =  [[ 1.944959  ]\n",
            " [-2.82026179]]\n"
          ],
          "name": "stdout"
        }
      ]
    },
    {
      "cell_type": "markdown",
      "metadata": {
        "id": "49Vmcyro68qD",
        "colab_type": "text"
      },
      "source": [
        "###(i)Stochastic Method\n",
        "For Stochastic Method, when the loop counts to 100000, the rate = 0.001, the cost reduce to 0.099 which is smaller than 0.2 as requred and $w = [w_0, w_1] = [1.93625391,-2.81421521]$"
      ]
    },
    {
      "cell_type": "code",
      "metadata": {
        "id": "DIepRiH054nu",
        "colab_type": "code",
        "outputId": "1a2e0659-e532-44a4-e0b8-44b6d7b79617",
        "colab": {
          "base_uri": "https://localhost:8080/",
          "height": 68
        }
      },
      "source": [
        "####Stochastic gradient descent\n",
        "rate = 0.001\n",
        "iteration = 100000\n",
        "##initialize\n",
        "w = np.array([[1.5] ,[-2]])\n",
        "# phi = np.array([[0],[0]])\n",
        "# grad = np.array([[0.5],[0.5]]) #(W^T * phi - y) * phi\n",
        "\n",
        "#----------------------------------------------------\n",
        "for j in range(iteration):\n",
        "  randomidx = np.random.randint(20, size=1) #Using the random index\n",
        "  phi = np.array([[1],[q2xTrain[randomidx]]])\n",
        "  grad = (w.T @ phi - q2yTrain[randomidx] ) * phi  #The y data is random\n",
        "  w = w - rate * grad\n",
        "\n",
        "#Calculate the cost\n",
        "cost = (PHI @ w - Y).T @ (PHI @ w - Y)/2/20\n",
        "print(\"Cost = \", cost)\n",
        "print(\"w = \",w)\n",
        "# print(\"grad = \",grad)\n"
      ],
      "execution_count": 25,
      "outputs": [
        {
          "output_type": "stream",
          "text": [
            "Cost =  [[array([[0.09963454]])]]\n",
            "w =  [[array([[1.95796853]])]\n",
            " [array([[-2.80107531]])]]\n"
          ],
          "name": "stdout"
        }
      ]
    },
    {
      "cell_type": "markdown",
      "metadata": {
        "id": "vBIQR4NzMPH6",
        "colab_type": "text"
      },
      "source": [
        "###(i)Newton Method\n",
        "Formula : $w = w - H^{-1} \\Delta E$, for which $H = \\Phi^T\\Phi$\n",
        "\n",
        "For Newton Method, when the loop counts to 120, the cost reduce to 0.099 which is smaller than 0.2 as requred and $w = [w_0, w_1] = [1.94689051,-2.82416996]$\n",
        "\n",
        "Also, for this case, when rate is around 0.1, it took only 60 to converges. However, if the rate is 0.01, it took 6~7 times of time to converge."
      ]
    },
    {
      "cell_type": "code",
      "metadata": {
        "id": "N8g5MMoUShX8",
        "colab_type": "code",
        "outputId": "58d90d70-4763-4799-bd94-cf34507f386b",
        "colab": {
          "base_uri": "https://localhost:8080/",
          "height": 68
        }
      },
      "source": [
        "####Newton Method\n",
        "rate = 0.1\n",
        "iteration = 120\n",
        "\n",
        "\n",
        "##initialize\n",
        "w = np.array([[0] ,[0]])\n",
        "a = np.ones((20,1))\n",
        "b = q2xTrain\n",
        "PHI = np.hstack((a , b))\n",
        "Y = q2yTrain\n",
        "\n",
        "\n",
        "grad = np.array([[0.5],[0.5]]) #(W^T * phi - y) * phi\n",
        "\n",
        "#----------------------------------------------------\n",
        "for j in range(iteration):\n",
        "  H = PHI.T @ PHI\n",
        "  grad = PHI.T @ (PHI @ w - Y)\n",
        "  w = w - rate * np.linalg.inv(H) @ grad    #Formula for Newon Method\n",
        "\n",
        "#Calculate the cost\n",
        "cost = (PHI @ w - Y).T @ (PHI @ w - Y)/2/20\n",
        "print(\"Cost = \", cost)\n",
        "\n",
        "print(\"w = \",w)\n",
        "# print(\"grad = \",grad)\n"
      ],
      "execution_count": 29,
      "outputs": [
        {
          "output_type": "stream",
          "text": [
            "Cost =  [[0.09937726]]\n",
            "w =  [[ 1.94689051]\n",
            " [-2.82416996]]\n"
          ],
          "name": "stdout"
        }
      ]
    },
    {
      "cell_type": "markdown",
      "metadata": {
        "id": "wBsP9Cl1vB2P",
        "colab_type": "text"
      },
      "source": [
        "##(ii)"
      ]
    },
    {
      "cell_type": "markdown",
      "metadata": {
        "colab_type": "text",
        "id": "v7txgoh8xPwc"
      },
      "source": [
        "##2(b) Over-fitting"
      ]
    },
    {
      "cell_type": "markdown",
      "metadata": {
        "id": "6JSIqv44marl",
        "colab_type": "text"
      },
      "source": [
        "###(i) Newton's method finding best dimension w/o overfitting\n",
        "Use Newton's method to find coefficient of polynomial(w)funcs with different degrees(0~9) and will discover overfitting problem."
      ]
    },
    {
      "cell_type": "code",
      "metadata": {
        "id": "osv-lI--OQfb",
        "colab_type": "code",
        "outputId": "17e89b42-5122-4933-ab0e-073b6f2e90b6",
        "colab": {
          "base_uri": "https://localhost:8080/",
          "height": 635
        }
      },
      "source": [
        "rate = 0.1\n",
        "iteration = 600\n",
        "##Some matrices data\n",
        "Y = q2yTrain\n",
        "Y_test = q2yTest\n",
        "PHI = np.ones((20,1))\n",
        "PHI_test = np.ones((20,1))\n",
        "\n",
        "b = q2xTrain.T\n",
        "w = np.zeros((1,1)) #####\n",
        "RMS = np.zeros((10,1))\n",
        "RMS_test = np.zeros((10,1))\n",
        "\n",
        "#----------------------------------------------------\n",
        "for i in range(10):\n",
        "  for j in range(iteration):\n",
        "    H = PHI.T @ PHI #Hessian \n",
        "    grad = PHI.T @ (PHI @ w - Y)\n",
        "    w = w - rate * np.linalg.inv(H) @ grad\n",
        "  \n",
        "  E = 1/2*(PHI @ w - Y).T @ (PHI @ w - Y)\n",
        "  RMS[i,0] = np.sqrt(2*E/20)[0,0]\n",
        "  E_test = 1/2*(PHI_test @ w - Y_test).T @ (PHI_test @ w - Y_test)\n",
        "  RMS_test[i,0] = np.sqrt(2*E_test/20)[0,0] \n",
        "  w = np.zeros((w.shape[0]+1,1)) #reshape the w\n",
        "\n",
        "  add = np.power(q2xTrain.T,i+1)\n",
        "  PHI = np.vstack((PHI.T,add)).T\n",
        "  add_test = np.power(q2xTest.T , i+1)\n",
        "  PHI_test = np.vstack((PHI_test.T , add_test)).T\n",
        "print(\"RMS = \",RMS)\n",
        "print(\"RMS_test =\",RMS_test)\n",
        "\n",
        "plt.xlabel('Degree')\n",
        "plt.ylabel('RMS')\n",
        "plt.plot(RMS, 'ro-', label = 'Training')\n",
        "plt.plot(RMS_test, 'bo-', label = 'Test')\n",
        "plt.title('Finding coefficient w/ different degree')\n",
        "plt.legend()\n",
        "plt.show()\n",
        "\n"
      ],
      "execution_count": 30,
      "outputs": [
        {
          "output_type": "stream",
          "text": [
            "RMS =  [[0.86062627]\n",
            " [0.44581894]\n",
            " [0.44468991]\n",
            " [0.24699351]\n",
            " [0.2333662 ]\n",
            " [0.23014848]\n",
            " [0.22741619]\n",
            " [0.22455504]\n",
            " [0.22454003]\n",
            " [0.21256024]]\n",
            "RMS_test = [[0.74556728]\n",
            " [0.59390552]\n",
            " [0.59614154]\n",
            " [0.37486957]\n",
            " [0.36679003]\n",
            " [0.3577246 ]\n",
            " [0.37176129]\n",
            " [0.44414239]\n",
            " [0.42633389]\n",
            " [1.56589746]]\n"
          ],
          "name": "stdout"
        },
        {
          "output_type": "display_data",
          "data": {
            "image/png": "[encoded data removed]",
            "text/plain": [
              "<Figure size 432x288 with 1 Axes>"
            ]
          },
          "metadata": {
            "tags": []
          }
        }
      ]
    },
    {
      "cell_type": "markdown",
      "metadata": {
        "id": "QBV9ZvEOf-Q4",
        "colab_type": "text"
      },
      "source": [
        "(ii) \n",
        "\n",
        "Q:Which degree polynomial would you say best fits the data? Was there evidence of under/over-fitting the data? Use your generated charts to defend your answer.\n",
        "\n",
        "A: **Degree 5** best fit the data since the cost value of **test data**is the smallest. As for the **training data**, it will keep reducing with the increasing degree. When the degree reaches **9**, the over-fitting phenomenon is obvious. \n",
        "\n"
      ]
    },
    {
      "cell_type": "markdown",
      "metadata": {
        "id": "LEJ66d3EgWxt",
        "colab_type": "text"
      },
      "source": [
        "##2(c)Regularization\n",
        "\n"
      ]
    },
    {
      "cell_type": "markdown",
      "metadata": {
        "colab_type": "text",
        "id": "FH_sZn72oUXh"
      },
      "source": [
        "###(i) Regularization solving over-fitting\n",
        "Using Newton Method with regularization to solve overfitting"
      ]
    },
    {
      "cell_type": "code",
      "metadata": {
        "id": "wfRYi_o7ohGh",
        "colab_type": "code",
        "outputId": "43c99174-b656-4913-ae31-db7662c02c99",
        "colab": {
          "base_uri": "https://localhost:8080/",
          "height": 570
        }
      },
      "source": [
        "rate = 0.1\n",
        "iteration = 600\n",
        "##Some matrices data\n",
        "Y = q2yTrain\n",
        "Y_test = q2yTest\n",
        "##Input PHI data\n",
        "PHI = np.ones((20,10))\n",
        "PHI_test = np.ones((20,10))\n",
        "## Setting up and initialize\n",
        "#PHI\n",
        "for i in range(9):\n",
        "  add = np.power(q2xTrain.T,i+1)\n",
        "  add_test = np.power(q2xTest.T,i+1)\n",
        "  PHI[:,i+1] = add\n",
        "  PHI_test[:,i+1] = add_test\n",
        "\n",
        "w = np.zeros((10,1)) \n",
        "RMS = np.zeros((8,1))\n",
        "RMS_test = np.zeros((8,1))\n",
        "lambdaa = np.array([0,10**-6,10**-5,10**-4,10**-3,10**-2,10**-1,1 ])\n",
        "#----------------------------------------------------\n",
        "for i in range(len(lambdaa)):    #Different Lambda\n",
        "  for j in range(iteration):     #Iteration for training\n",
        "    H = lambdaa[i]* np.eye(10) + PHI.T @ PHI #(delta^2 E) Hessian for regularization\n",
        "    grad = lambdaa[i]* np.eye(10) @ w + PHI.T @ (PHI @ w - Y)  #delta E\n",
        "    w = w - rate * np.linalg.inv(H) @ grad\n",
        "  #Still using the normal cost and RMS to count\n",
        "  E = 1/2*(PHI @ w - Y).T @ (PHI @ w - Y)  \n",
        "  RMS[i,0] = np.sqrt(2*E/20)[0,0]\n",
        "  E_test = 1/2*(PHI_test @ w - Y_test).T @ (PHI_test @ w - Y_test)\n",
        "  RMS_test[i,0] = np.sqrt(2*E_test/20)[0,0] \n",
        "  w = np.zeros((10,1))           #reset w to zero\n",
        "#----------------------------------------------------\n",
        "lnn = np.array([[-9,-6,-5,-4,-3,-2,-1,0]]).T  #for plotting\n",
        "\n",
        "print(\"RMS = \",RMS)\n",
        "print(\"RMS_test =\",RMS_test)\n",
        "\n",
        "plt.xlabel('ln($\\lambda$)')\n",
        "plt.ylabel('RMS')\n",
        "plt.title('Solving over-fitting w/ regularization')\n",
        "plt.plot(lnn,RMS, 'r-', label = 'Training ')\n",
        "plt.plot(lnn,RMS_test, 'b-', label='Test' )\n",
        "plt.legend()\n",
        "plt.show()\n"
      ],
      "execution_count": 32,
      "outputs": [
        {
          "output_type": "stream",
          "text": [
            "RMS =  [[0.21256024]\n",
            " [0.22763515]\n",
            " [0.23043614]\n",
            " [0.23412159]\n",
            " [0.25742655]\n",
            " [0.32181477]\n",
            " [0.35969621]\n",
            " [0.52047877]]\n",
            "RMS_test = [[1.56589746]\n",
            " [0.37287548]\n",
            " [0.35894355]\n",
            " [0.35795053]\n",
            " [0.37635769]\n",
            " [0.45229393]\n",
            " [0.4601072 ]\n",
            " [0.47126681]]\n"
          ],
          "name": "stdout"
        },
        {
          "output_type": "display_data",
          "data": {
            "image/png": "[encoded data removed]",
            "text/plain": [
              "<Figure size 432x288 with 1 Axes>"
            ]
          },
          "metadata": {
            "tags": []
          }
        }
      ]
    },
    {
      "cell_type": "markdown",
      "metadata": {
        "id": "x12Yb46VodQu",
        "colab_type": "text"
      },
      "source": [
        "###(ii) \n",
        "When $\\lambda$ = $10^{-4}$ , it seems to be working the best. For this problem, it successfully solved the over-fitting problem. \n",
        "\n"
      ]
    },
    {
      "cell_type": "markdown",
      "metadata": {
        "colab_type": "text",
        "id": "GxmdvAof5X38"
      },
      "source": [
        "# **3.Locally Weighted Linear Regression(Closed form)**\n",
        "Consider a linear regression problem in which we want to weight different training examples differently.\n"
      ]
    },
    {
      "cell_type": "markdown",
      "metadata": {
        "id": "42i-o-T3_Oy0",
        "colab_type": "text"
      },
      "source": [
        "##3(a)\n"
      ]
    },
    {
      "cell_type": "markdown",
      "metadata": {
        "id": "Mq7OR5cd_SnV",
        "colab_type": "text"
      },
      "source": [
        "##3(b)"
      ]
    },
    {
      "cell_type": "markdown",
      "metadata": {
        "id": "HQgCen1x_Wsj",
        "colab_type": "text"
      },
      "source": [
        "##3(c)"
      ]
    },
    {
      "cell_type": "markdown",
      "metadata": {
        "id": "cu02IML4KQ4s",
        "colab_type": "text"
      },
      "source": [
        "##3(d)"
      ]
    },
    {
      "cell_type": "markdown",
      "metadata": {
        "id": "DPsH37DMdgnN",
        "colab_type": "text"
      },
      "source": [
        "###(i)Unweighted) linear regression\n",
        "Using closed-form"
      ]
    },
    {
      "cell_type": "code",
      "metadata": {
        "id": "xeQPN_NafEuw",
        "colab_type": "code",
        "outputId": "beb0a15e-52df-49f6-ad6e-218b566521d9",
        "colab": {
          "base_uri": "https://localhost:8080/",
          "height": 317
        }
      },
      "source": [
        "## Matrix Settings ----------------------\n",
        "PHI = np.ones((100,2)) # 2nd degree\n",
        "PHI[:,1] = q3x.T # PHI.shape = (100*2)\n",
        "Y = q3y\n",
        "H = PHI.T @ PHI\n",
        "\n",
        "\n",
        "## Calculated ----------------------------\n",
        "w = np.linalg.inv(H) @ PHI.T @ Y  ##Using closed-form\n",
        "print(\"w = \", w)\n",
        "x = np.linspace(-5, 12.5, 100)\n",
        "plt.plot(x, w[1,0] * x + w[0,0], label = 'y = $w^Tx$')\n",
        "plt.plot(q3x, q3y, 'o', label = 'data')\n",
        "plt.legend()\n"
      ],
      "execution_count": 34,
      "outputs": [
        {
          "output_type": "stream",
          "text": [
            "w =  [[0.49073707]\n",
            " [0.26333931]]\n"
          ],
          "name": "stdout"
        },
        {
          "output_type": "execute_result",
          "data": {
            "text/plain": [
              "<matplotlib.legend.Legend at 0x7f20204ba780>"
            ]
          },
          "metadata": {
            "tags": []
          },
          "execution_count": 34
        },
        {
          "output_type": "display_data",
          "data": {
            "image/png": "[encoded data removed]",
            "text/plain": [
              "<Figure size 432x288 with 1 Axes>"
            ]
          },
          "metadata": {
            "tags": []
          }
        }
      ]
    },
    {
      "cell_type": "markdown",
      "metadata": {
        "id": "vEundcogd18B",
        "colab_type": "text"
      },
      "source": [
        "###(ii) Locally Weighted Linear Regression with each query point\n",
        "By weighting around each query point(-5~12.5), **though the dimension is still 2, the curvefits well with the data.**\n",
        "> $r^{(i)} = e^{(-\\frac{(x-x^{(i)})^2}{2\\tau^2})}$ \n",
        "\n",
        "For which x(i) is the test data from 1~100, and x is the linspace data from -5 ~ 12.5. Each R matrix is having it's own x. Each iteration for each linspace point would have one y value.\n",
        "\n",
        "\n"
      ]
    },
    {
      "cell_type": "code",
      "metadata": {
        "id": "VU_sikBkdy-L",
        "colab_type": "code",
        "outputId": "2b24aa57-4ad6-4030-f8ef-f4ca090591c5",
        "colab": {
          "base_uri": "https://localhost:8080/",
          "height": 283
        }
      },
      "source": [
        "tau = 0.8\n",
        "R = np.zeros((100,100))\n",
        "PHI = np.ones((100,2)) # 2nd degree\n",
        "PHI[:,1] = q3x.T\n",
        "y = np.zeros(1000)\n",
        "Y = q3y\n",
        "#---------------------------------------------------------\n",
        "for i in range(1000):\n",
        "  x_range = -5 + (12.4 - (-5))/1000 * i\n",
        "  for j in range(100): #count for setting up the R diagonal matrix\n",
        "    r = np.exp(- (x_range - q3x[j,0])**2 / 2 * tau**2)\n",
        "    R[j,j] = r\n",
        "  H = PHI.T @ R @ PHI # R.shape = 100*100\n",
        "  w = np.linalg.inv(H) @ PHI.T @ R @ Y \n",
        "\n",
        "  y[i] = w[1,0] * x_range + w[0,0]\n",
        "##--------------------------------------------------------\n",
        "\n",
        "x = np.linspace(-5, 12.4, 1000)\n",
        "plt.title('Locally Weighted Linear Regression with each query point ($ τ = 0.8 $)')\n",
        "plt.plot(x, y, label = 'y = $w^Tx$')\n",
        "plt.plot(q3x, q3y, 'o', label = 'data')\n",
        "plt.legend()\n",
        "plt.show()"
      ],
      "execution_count": 43,
      "outputs": [
        {
          "output_type": "display_data",
          "data": {
            "image/png": "[encoded data removed]",
            "text/plain": [
              "<Figure size 432x288 with 1 Axes>"
            ]
          },
          "metadata": {
            "tags": []
          }
        }
      ]
    },
    {
      "cell_type": "markdown",
      "metadata": {
        "id": "GtODBgdFqvCw",
        "colab_type": "text"
      },
      "source": [
        "###(iii) Unweighted linear regression\n",
        "Q:With different $\\tau = 0.1,\\ 0.3,\\ 2,\\ 10$\n",
        "\n",
        "A:When using different $\\tau= 0.1,\\ 0.3,\\ 2,\\ 10$ value, it seems when  $\\tau=2$, the best solution for that the plot matches the data sets the most. When the value is bigger, it seems over-fitting and trimble for the line. "
      ]
    },
    {
      "cell_type": "code",
      "metadata": {
        "id": "7Wukyd0Aq9SB",
        "colab_type": "code",
        "outputId": "3ba63db3-466f-474a-946a-907958cf4265",
        "colab": {
          "base_uri": "https://localhost:8080/",
          "height": 281
        }
      },
      "source": [
        "tau = np.array([0.1, 0.3, 2, 10])\n",
        "R = np.zeros((100,100))\n",
        "## Create PHI\n",
        "PHI = np.ones((100,2)) # 2nd degree\n",
        "PHI[:,1] = q3x.T\n",
        "#Calculated ------------------------------\n",
        "y = np.zeros((1000,4))\n",
        "for k in range(4):\n",
        "  for i in range(1000):\n",
        "    x_range = -5 + (12.4 - (-5))/1000 * i\n",
        "    for j in range(100): #count for \n",
        "      r = np.exp(- (x_range - q3x[j,0])**2 / 2 * tau[k]**2)\n",
        "      \n",
        "      R[j,j] = r\n",
        "    H = PHI.T @ R @ PHI # R.shape = 100*100\n",
        "    w = np.linalg.inv(H) @ PHI.T @ R @ Y \n",
        "\n",
        "    y[i,k] = w[1,0] * x_range + w[0,0]\n",
        "## Plot ----------------------------------\n",
        "\n",
        "x = np.linspace(-5, 12.4, 1000)\n",
        "plt.title('Locally Weighted Linear Regression with each query point ')\n",
        "plt.plot(x, y[:,0], label = '$τ = 0.1$')\n",
        "plt.plot(x, y[:,1], label = '$τ = 0.3$')\n",
        "plt.plot(x, y[:,2], label = '$τ = 2$')\n",
        "plt.plot(x, y[:,3], label = '$τ = 10$')\n",
        "\n",
        "plt.plot(q3x, q3y, 'o', label = 'data')\n",
        "plt.legend()\n",
        "plt.show()"
      ],
      "execution_count": 42,
      "outputs": [
        {
          "output_type": "display_data",
          "data": {
            "image/png": "[encoded data removed]",
            "text/plain": [
              "<Figure size 432x288 with 1 Axes>"
            ]
          },
          "metadata": {
            "tags": []
          }
        }
      ]
    }
  ]
}
